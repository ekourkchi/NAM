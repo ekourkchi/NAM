{
 "cells": [
  {
   "cell_type": "code",
   "execution_count": 26,
   "metadata": {},
   "outputs": [],
   "source": [
    "import numpy as np\n",
    "\n",
    "\n",
    "f = np.load(\"res.npz\")\n",
    "delta = f[\"arr_0\"] # Density field in super galactic coordinates on grid 128x128x128 and box of 800 Mpc/h_75\n",
    "v = f[\"arr_1\"]     # velocity field in super galactic coordinates on grid 128x128x128 and box of 800 Mpc/h_75\n",
    "assert(v.shape == (3,128,128,128))\n",
    "\n",
    "Vx = v[0] # vsgx 128x128x128\n",
    "Vy = v[1] # vsgy\n",
    "Vz = v[2] # vsgz\n",
    "\n",
    "x = np.linspace(0, 800, 128)-400.\n",
    "y = np.linspace(0, 800, 128)-400.\n",
    "z = np.linspace(0, 800, 128)-400.\n",
    "xyz = np.meshgrid(x,y,z)\n",
    "X = xyz[0] # 128x128x128\n",
    "Y = xyz[1]\n",
    "Z = xyz[2]\n",
    "\n",
    "## Flattening\n",
    "Vx = Vx.flatten()\n",
    "Vy = Vy.flatten()\n",
    "Vz = Vz.flatten()\n",
    "X = X.flatten()\n",
    "Y = Y.flatten()\n",
    "Z = Z.flatten()"
   ]
  },
  {
   "cell_type": "code",
   "execution_count": 30,
   "metadata": {},
   "outputs": [],
   "source": [
    "datfile = 'CF3.csv'\n",
    "test = np.genfromtxt(datfile, delimiter=',', filling_values=None, names=True, dtype=None)      \n",
    "\n",
    "C = 299792.458 # speed of light km/s\n",
    "\n",
    "nest = test['Nest']\n",
    "pgc1 = test['PGC']\n",
    "dist = test['d']\n",
    "#ed   = test['ed']\n",
    "Vgsr_observe = test['z']*C      # test['Vgsr_observe']\n",
    "Vgsr_model   = test['z']*C\n",
    "sgl_catalog  = test['sgl'] \n",
    "sgb_catalog  = test['sgb']\n",
    "name = np.asarray([str(idd) for idd in pgc1])\n",
    "\n",
    "ind = np.where(dist>0)"
   ]
  },
  {
   "cell_type": "code",
   "execution_count": 32,
   "metadata": {},
   "outputs": [
    {
     "data": {
      "text/plain": [
       "array([5.52469466, 4.98984718, 5.07830944, ..., 5.43965197, 1.99428642,\n",
       "       5.27969599])"
      ]
     },
     "execution_count": 32,
     "metadata": {},
     "output_type": "execute_result"
    }
   ],
   "source": [
    "sgl_catalog"
   ]
  },
  {
   "cell_type": "code",
   "execution_count": null,
   "metadata": {},
   "outputs": [],
   "source": []
  }
 ],
 "metadata": {
  "kernelspec": {
   "display_name": "Python 2",
   "language": "python",
   "name": "python2"
  },
  "language_info": {
   "codemirror_mode": {
    "name": "ipython",
    "version": 2
   },
   "file_extension": ".py",
   "mimetype": "text/x-python",
   "name": "python",
   "nbconvert_exporter": "python",
   "pygments_lexer": "ipython2",
   "version": "2.7.15"
  }
 },
 "nbformat": 4,
 "nbformat_minor": 2
}
